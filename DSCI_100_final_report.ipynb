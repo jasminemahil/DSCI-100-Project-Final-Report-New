{
 "cells": [
  {
   "cell_type": "markdown",
   "id": "a944e186-79ae-4f9e-800b-64738decb1db",
   "metadata": {},
   "source": [
    "# ADD TITLE"
   ]
  },
  {
   "cell_type": "markdown",
   "id": "71a2254d-b50c-43e6-a1a3-51936ac69d6d",
   "metadata": {},
   "source": [
    "#### Introduction\n",
    "<br>\n",
    "&nbsp; A research team at UBC wants to collect data about how people play video games. To do this, they plan to recruit participants to play Minecraft on a recorded server, which will allow them to observe player actions and interactions. They wish to target their recruitment efforts to maximize the amount of data they can collect. \n",
    "<br>\n",
    "<br>\n",
    "&nbsp; We utilized data collected by the reasearch team to identify which kinds of players are most likely to contribute large amounts of data so that those players can be targeted in recruiting efforts. Specifically, we aimed to determine whether or not we can estimate the total playing time a participant will contribute based on their age and previous playing experience. The research team provided 2 datasets: players.csv and sessions.csv, which we will refer to as the Players Dataset and the Sessions Dataset. The Players Dataset contains 196 observations and the following 9 variables: experience, subscribe, hashedEmail, played_hours, name, gender, age, individualID, and organizationName. The Sessions Dataset contains 1535 observations and the following 5 variables: hashedEmail, start_time, end_time, original_start_time, and original_end_time. All variables and potential issues with the data are described in the tables below. We only looked at the experience, age, and played_hours variables in the Players Dataset to address our question. \n",
    "<br>\n",
    "<br>\n",
    "\n",
    "##### **Table 1: Variable Descriptions**\n",
    "\n",
    "| Variable Name | Variable Type | Meaning |\n",
    "|---------------|---------------|---------|\n",
    "|experience|character|players experience level|\n",
    "|subscribe|logical|whether or not player is subscribed to email updates|\n",
    "|hashedEmail|character|players encrypted email address|\n",
    "|played_hours|double|total hours of play time contributed|\n",
    "|name|character|players name|\n",
    "|gender|character|players gender|\n",
    "|age|double|players age|\n",
    "|individualID|logical|assumed to be a string of numbers and/or letters assigned to player for identification|\n",
    "|organizationName|logical|assumed to be name of the group that was asked to participate which player is part of|\n",
    "|start_time|character|start date and time of playing session|\n",
    "|end_time|character|end date and time of playing session|\n",
    "|original_start_time|double|start time of playing session in unix timestamp format|\n",
    "|original_end_time|double|end time of playing session in unix timestamp format|\n",
    "<br>\n",
    "<br>\n",
    "\n",
    "##### **Table 2: Issues with Data**\n",
    "\n",
    "| Data Table | Issue |\n",
    "|------------|-------|\n",
    "|Players Dataset|individualID and organizationName columns provide no information|\n",
    "|Players Dataset|experience and gender should be factors because they are categorical|\n",
    "|Players Dataset|some variables don’t contain equal amounts of each type (eg. there are more males than any other gender, etc.)|\n",
    "|Sessions Dataset|multiple observations with the same hashedEmail, may affect whether/how observations are grouped later on for analysis|\n",
    "|Sessions Dataset|start_time and end_time columns should be datetime, not character|\n",
    "|Sessions Dataset|all observations for original_start_time and original_end_time are the same because they are in unix timestamp format and the values are too large, are not providing valuable information|\n",
    "|Both|data is in 2 data frames, should be in 1|\n",
    "|Both|sessions data has more observations than players data, may be an issue when merging data sets if one has more unique hashed emails than the other|"
   ]
  },
  {
   "cell_type": "markdown",
   "id": "d1155e64-bc41-4957-a941-44400dc6e1eb",
   "metadata": {},
   "source": [
    "#### Methods and Results"
   ]
  },
  {
   "cell_type": "markdown",
   "id": "cd155a78-c9b1-4cb7-958a-883a620e447f",
   "metadata": {},
   "source": [
    "#### Discussion"
   ]
  },
  {
   "cell_type": "markdown",
   "id": "f6200fbb-d510-4bd0-9594-c537e0b25e03",
   "metadata": {},
   "source": [
    "#### References"
   ]
  }
 ],
 "metadata": {
  "kernelspec": {
   "display_name": "R",
   "language": "R",
   "name": "ir"
  },
  "language_info": {
   "codemirror_mode": "r",
   "file_extension": ".r",
   "mimetype": "text/x-r-source",
   "name": "R",
   "pygments_lexer": "r",
   "version": "4.3.3"
  }
 },
 "nbformat": 4,
 "nbformat_minor": 5
}
